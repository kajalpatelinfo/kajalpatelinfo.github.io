{
 "cells": [
  {
   "cell_type": "markdown",
   "metadata": {},
   "source": [
    "## Color Editor"
   ]
  },
  {
   "cell_type": "code",
   "execution_count": 1,
   "metadata": {},
   "outputs": [],
   "source": [
    "from PIL import Image\n",
    "\n",
    "image_path = \"../assets/css/images/github_gray.png\"\n",
    "image = Image.open(image_path).convert(\"RGBA\")\n",
    "\n",
    "# target_rgb = (77, 101, 28)\n",
    "target_rgb = (33, 79, 194)\n",
    "\n",
    "output_image = Image.new(\"RGBA\", image.size)\n",
    "\n",
    "for x in range(image.width):\n",
    "    for y in range(image.height):\n",
    "        r, g, b, a = image.getpixel((x, y))\n",
    "        if r == g == b:\n",
    "            output_image.putpixel((x, y), target_rgb + (a,))\n",
    "        else:\n",
    "            output_image.putpixel((x, y), (r, g, b, a))\n",
    "\n",
    "output_image_path = \"../assets/css/images/github_blue.png\"\n",
    "output_image.save(output_image_path)"
   ]
  },
  {
   "cell_type": "code",
   "execution_count": 2,
   "metadata": {},
   "outputs": [],
   "source": [
    "from PIL import Image\n",
    "\n",
    "image_path = \"../assets/css/images/linkedin_blue.png\"\n",
    "image = Image.open(image_path).convert(\"RGBA\")\n",
    "\n",
    "# target_rgb = (77, 101, 28)\n",
    "target_rgb = (33, 79, 194)\n",
    "\n",
    "output_image = Image.new(\"RGBA\", image.size)\n",
    "\n",
    "for x in range(image.width):\n",
    "    for y in range(image.height):\n",
    "        r, g, b, a = image.getpixel((x, y))\n",
    "        if b > r and b > g:\n",
    "            output_image.putpixel((x, y), target_rgb + (a,))\n",
    "        else:\n",
    "            output_image.putpixel((x, y), (r, g, b, a))\n",
    "\n",
    "output_image_path = \"../assets/css/images/linkedin_blue.png\"\n",
    "output_image.save(output_image_path)"
   ]
  },
  {
   "cell_type": "code",
   "execution_count": 3,
   "metadata": {},
   "outputs": [],
   "source": [
    "from PIL import Image\n",
    "\n",
    "image_path = \"../assets/css/images/mail_gray.png\"\n",
    "image = Image.open(image_path).convert(\"RGBA\")\n",
    "\n",
    "# target_rgb = (77, 101, 28)\n",
    "target_rgb = (33, 79, 194)\n",
    "\n",
    "output_image = Image.new(\"RGBA\", image.size)\n",
    "\n",
    "for x in range(image.width):\n",
    "    for y in range(image.height):\n",
    "        r, g, b, a = image.getpixel((x, y))\n",
    "        if b > r and b > g:\n",
    "            output_image.putpixel((x, y), target_rgb + (a,))\n",
    "        else:\n",
    "            output_image.putpixel((x, y), (r, g, b, a))\n",
    "\n",
    "output_image_path = \"../assets/css/images/mail_blue.png\"\n",
    "output_image.save(output_image_path)"
   ]
  },
  {
   "cell_type": "code",
   "execution_count": 1,
   "metadata": {},
   "outputs": [],
   "source": [
    "from PIL import Image\n",
    "\n",
    "image_path = \"/Users/kajal/Downloads/Illinois_formal_wordmark_tm_fullcolor_rgb.png\"\n",
    "image = Image.open(image_path).convert(\"RGBA\")\n",
    "\n",
    "target_rgb = (255, 255, 255)\n",
    "\n",
    "output_image = Image.new(\"RGBA\", image.size)\n",
    "\n",
    "for x in range(image.width):\n",
    "    for y in range(image.height):\n",
    "        r, g, b, a = image.getpixel((x, y))\n",
    "        if b > r and b > g:\n",
    "            output_image.putpixel((x, y), target_rgb + (a,))\n",
    "        else:\n",
    "            output_image.putpixel((x, y), (r, g, b, a))\n",
    "\n",
    "output_image_path = \"/Users/kajal/Downloads/Illinois_formal_wordmark_tm_white.png\"\n",
    "output_image.save(output_image_path)"
   ]
  },
  {
   "cell_type": "code",
   "execution_count": null,
   "metadata": {},
   "outputs": [],
   "source": []
  }
 ],
 "metadata": {
  "kernelspec": {
   "display_name": "base",
   "language": "python",
   "name": "python3"
  },
  "language_info": {
   "codemirror_mode": {
    "name": "ipython",
    "version": 3
   },
   "file_extension": ".py",
   "mimetype": "text/x-python",
   "name": "python",
   "nbconvert_exporter": "python",
   "pygments_lexer": "ipython3",
   "version": "3.11.5"
  }
 },
 "nbformat": 4,
 "nbformat_minor": 2
}
